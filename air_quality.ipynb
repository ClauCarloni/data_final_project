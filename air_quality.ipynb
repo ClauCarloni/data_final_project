{
 "cells": [
  {
   "cell_type": "markdown",
   "id": "f1098cb0",
   "metadata": {},
   "source": [
    "# Dutch air quality dataset - daily data"
   ]
  },
  {
   "cell_type": "markdown",
   "id": "a1cc3d78",
   "metadata": {},
   "source": [
    "- https://aqicn.org/city/amsterdam/\n",
    "- https://www.luchtmeetnet.nl/informatie/luchtkwaliteit/luchtkwaliteitsindex-(lki)"
   ]
  },
  {
   "cell_type": "markdown",
   "id": "acf75b10",
   "metadata": {},
   "source": [
    "## Installing packages"
   ]
  },
  {
   "cell_type": "code",
   "execution_count": 1,
   "id": "415244f5",
   "metadata": {},
   "outputs": [],
   "source": [
    "import matplotlib.pyplot as plt\n",
    "import pandas as pd\n",
    "import seaborn as sns\n",
    "import numpy as np\n",
    "from statistics import mode\n",
    "import collections\n",
    "from datetime import date\n",
    "import scipy.stats as stats\n",
    "\n",
    "import warnings\n",
    "warnings.filterwarnings('ignore')"
   ]
  },
  {
   "cell_type": "markdown",
   "id": "e46e6de4",
   "metadata": {},
   "source": [
    "## Importing data"
   ]
  },
  {
   "cell_type": "code",
   "execution_count": 2,
   "id": "32f67ad2",
   "metadata": {},
   "outputs": [],
   "source": [
    "air_quality = pd.read_csv(r'C:\\Users\\claud\\data_final_project\\Usefull\\amsterdam-air-quality.csv')"
   ]
  },
  {
   "cell_type": "code",
   "execution_count": 3,
   "id": "9b9b1ebe",
   "metadata": {},
   "outputs": [
    {
     "data": {
      "text/plain": [
       "(2666, 7)"
      ]
     },
     "execution_count": 3,
     "metadata": {},
     "output_type": "execute_result"
    }
   ],
   "source": [
    "air_quality.shape"
   ]
  },
  {
   "cell_type": "code",
   "execution_count": 4,
   "id": "4a366159",
   "metadata": {},
   "outputs": [
    {
     "data": {
      "text/plain": [
       "date     object\n",
       " pm25    object\n",
       " pm10    object\n",
       " o3      object\n",
       " no2     object\n",
       " so2     object\n",
       " co      object\n",
       "dtype: object"
      ]
     },
     "execution_count": 4,
     "metadata": {},
     "output_type": "execute_result"
    }
   ],
   "source": [
    "air_quality.dtypes"
   ]
  },
  {
   "cell_type": "markdown",
   "id": "3f3d0e7e",
   "metadata": {},
   "source": [
    "- Treating the first column as it's not formated as date"
   ]
  },
  {
   "cell_type": "code",
   "execution_count": 5,
   "id": "2917b21b",
   "metadata": {},
   "outputs": [],
   "source": [
    "newdate = []\n",
    "\n",
    "for i in air_quality['date']:\n",
    "    a = i.split('/')\n",
    "    year = \"{:04d}\".format(int(a[0]))\n",
    "    month = \"{:02d}\".format(int(a[1]))\n",
    "    day = \"{:02d}\".format(int(a[2]))\n",
    "    b = year + month + day\n",
    "    newdate.append(b)\n",
    "    \n",
    "air_quality['newdate'] = newdate"
   ]
  },
  {
   "cell_type": "code",
   "execution_count": 6,
   "id": "616772b0",
   "metadata": {},
   "outputs": [
    {
     "data": {
      "text/plain": [
       "Index(['date', ' pm25', ' pm10', ' o3', ' no2', ' so2', ' co', 'newdate'], dtype='object')"
      ]
     },
     "execution_count": 6,
     "metadata": {},
     "output_type": "execute_result"
    }
   ],
   "source": [
    "air_quality.columns"
   ]
  },
  {
   "cell_type": "code",
   "execution_count": 7,
   "id": "ece6f4ef",
   "metadata": {},
   "outputs": [
    {
     "data": {
      "text/html": [
       "<div>\n",
       "<style scoped>\n",
       "    .dataframe tbody tr th:only-of-type {\n",
       "        vertical-align: middle;\n",
       "    }\n",
       "\n",
       "    .dataframe tbody tr th {\n",
       "        vertical-align: top;\n",
       "    }\n",
       "\n",
       "    .dataframe thead th {\n",
       "        text-align: right;\n",
       "    }\n",
       "</style>\n",
       "<table border=\"1\" class=\"dataframe\">\n",
       "  <thead>\n",
       "    <tr style=\"text-align: right;\">\n",
       "      <th></th>\n",
       "      <th>newdate</th>\n",
       "      <th>pm25</th>\n",
       "      <th>pm10</th>\n",
       "      <th>o3</th>\n",
       "      <th>no2</th>\n",
       "      <th>so2</th>\n",
       "      <th>co</th>\n",
       "    </tr>\n",
       "  </thead>\n",
       "  <tbody>\n",
       "    <tr>\n",
       "      <th>2664</th>\n",
       "      <td>20131231</td>\n",
       "      <td></td>\n",
       "      <td></td>\n",
       "      <td></td>\n",
       "      <td>30</td>\n",
       "      <td></td>\n",
       "      <td></td>\n",
       "    </tr>\n",
       "    <tr>\n",
       "      <th>2579</th>\n",
       "      <td>20140101</td>\n",
       "      <td></td>\n",
       "      <td>42</td>\n",
       "      <td></td>\n",
       "      <td>32</td>\n",
       "      <td></td>\n",
       "      <td></td>\n",
       "    </tr>\n",
       "    <tr>\n",
       "      <th>2580</th>\n",
       "      <td>20140102</td>\n",
       "      <td></td>\n",
       "      <td>14</td>\n",
       "      <td></td>\n",
       "      <td>28</td>\n",
       "      <td></td>\n",
       "      <td></td>\n",
       "    </tr>\n",
       "    <tr>\n",
       "      <th>2581</th>\n",
       "      <td>20140103</td>\n",
       "      <td></td>\n",
       "      <td>17</td>\n",
       "      <td></td>\n",
       "      <td>26</td>\n",
       "      <td></td>\n",
       "      <td></td>\n",
       "    </tr>\n",
       "    <tr>\n",
       "      <th>2582</th>\n",
       "      <td>20140104</td>\n",
       "      <td></td>\n",
       "      <td>19</td>\n",
       "      <td></td>\n",
       "      <td>28</td>\n",
       "      <td></td>\n",
       "      <td></td>\n",
       "    </tr>\n",
       "  </tbody>\n",
       "</table>\n",
       "</div>"
      ],
      "text/plain": [
       "       newdate  pm25  pm10  o3  no2  so2  co\n",
       "2664  20131231                   30         \n",
       "2579  20140101          42       32         \n",
       "2580  20140102          14       28         \n",
       "2581  20140103          17       26         \n",
       "2582  20140104          19       28         "
      ]
     },
     "execution_count": 7,
     "metadata": {},
     "output_type": "execute_result"
    }
   ],
   "source": [
    "air_quality = air_quality.sort_values(by=['newdate'], ascending=True)\n",
    "air_quality = air_quality[['newdate', ' pm25', ' pm10', ' o3', ' no2', ' so2', ' co']]\n",
    "air_quality.head()"
   ]
  },
  {
   "cell_type": "markdown",
   "id": "49b41d85",
   "metadata": {},
   "source": [
    "## Data Cleaning"
   ]
  },
  {
   "cell_type": "markdown",
   "id": "3f829fb7",
   "metadata": {},
   "source": [
    "- Standardizing headers by removing spaces and capital letters"
   ]
  },
  {
   "cell_type": "code",
   "execution_count": 8,
   "id": "19019509",
   "metadata": {},
   "outputs": [],
   "source": [
    "def standardheader(df):\n",
    "    df.columns = [x.strip(' ').lower() for x in df.columns]"
   ]
  },
  {
   "cell_type": "code",
   "execution_count": 9,
   "id": "ff7f4f5b",
   "metadata": {},
   "outputs": [],
   "source": [
    "standardheader(air_quality)"
   ]
  },
  {
   "cell_type": "code",
   "execution_count": 10,
   "id": "7ba2f2e9",
   "metadata": {},
   "outputs": [
    {
     "data": {
      "text/plain": [
       "Index(['newdate', 'pm25', 'pm10', 'o3', 'no2', 'so2', 'co'], dtype='object')"
      ]
     },
     "execution_count": 10,
     "metadata": {},
     "output_type": "execute_result"
    }
   ],
   "source": [
    "air_quality.columns"
   ]
  },
  {
   "cell_type": "markdown",
   "id": "ca814db8",
   "metadata": {},
   "source": [
    "- Checking NaN values"
   ]
  },
  {
   "cell_type": "code",
   "execution_count": 11,
   "id": "39a80b8f",
   "metadata": {},
   "outputs": [
    {
     "name": "stdout",
     "output_type": "stream",
     "text": [
      "<class 'pandas.core.frame.DataFrame'>\n",
      "Int64Index: 2666 entries, 2664 to 2280\n",
      "Data columns (total 7 columns):\n",
      " #   Column   Non-Null Count  Dtype \n",
      "---  ------   --------------  ----- \n",
      " 0   newdate  2666 non-null   object\n",
      " 1   pm25     2666 non-null   object\n",
      " 2   pm10     2666 non-null   object\n",
      " 3   o3       2666 non-null   object\n",
      " 4   no2      2666 non-null   object\n",
      " 5   so2      2666 non-null   object\n",
      " 6   co       2666 non-null   object\n",
      "dtypes: object(7)\n",
      "memory usage: 166.6+ KB\n"
     ]
    }
   ],
   "source": [
    "air_quality.info()"
   ]
  },
  {
   "cell_type": "code",
   "execution_count": 12,
   "id": "f4b1c588",
   "metadata": {
    "scrolled": true
   },
   "outputs": [
    {
     "data": {
      "text/plain": [
       "newdate    0\n",
       "pm25       0\n",
       "pm10       0\n",
       "o3         0\n",
       "no2        0\n",
       "so2        0\n",
       "co         0\n",
       "dtype: int64"
      ]
     },
     "execution_count": 12,
     "metadata": {},
     "output_type": "execute_result"
    }
   ],
   "source": [
    "air_quality.isna().sum()\n",
    "#air_quality.isnull().sum() # both give the same result"
   ]
  },
  {
   "cell_type": "markdown",
   "id": "c8810b0c",
   "metadata": {},
   "source": [
    "- We have zero NaN values, but the colums types are object -> checking on a different way"
   ]
  },
  {
   "cell_type": "code",
   "execution_count": 13,
   "id": "a8c7931b",
   "metadata": {},
   "outputs": [
    {
     "name": "stdout",
     "output_type": "stream",
     "text": [
      "401 9 46 12\n"
     ]
    }
   ],
   "source": [
    "pm25 = len(air_quality[air_quality['pm25']==' '])\n",
    "pm10 = len(air_quality[air_quality['pm10']==' '])\n",
    "o3 = len(air_quality[air_quality['o3']==' '])\n",
    "no2 = len(air_quality[air_quality['no2']==' '])\n",
    "print(pm25, pm10, o3, no2)"
   ]
  },
  {
   "cell_type": "code",
   "execution_count": 14,
   "id": "13e57d8c",
   "metadata": {},
   "outputs": [
    {
     "name": "stdout",
     "output_type": "stream",
     "text": [
      "0 0 0 0\n"
     ]
    }
   ],
   "source": [
    "pm25 = len(air_quality[air_quality['pm25']==0])\n",
    "pm10 = len(air_quality[air_quality['pm10']==0])\n",
    "o3 = len(air_quality[air_quality['o3']==0])\n",
    "no2 = len(air_quality[air_quality['no2']==0])\n",
    "print(pm25, pm10, o3, no2)"
   ]
  },
  {
   "cell_type": "markdown",
   "id": "c9fca6aa",
   "metadata": {},
   "source": [
    "- We have a problem with spaces (' ') -> Replacing spaces (' ') for empty ('')"
   ]
  },
  {
   "cell_type": "code",
   "execution_count": 15,
   "id": "a920ad81",
   "metadata": {},
   "outputs": [],
   "source": [
    "def spaceout(df):\n",
    "    for x in df.columns:\n",
    "        a = df[x].dtypes == 'object'\n",
    "        if a == True:\n",
    "            df[x] = [x.strip(' ') for x in df[x]]\n",
    "        else:\n",
    "            pass"
   ]
  },
  {
   "cell_type": "code",
   "execution_count": 16,
   "id": "f2dc4448",
   "metadata": {},
   "outputs": [],
   "source": [
    "spaceout(air_quality)"
   ]
  },
  {
   "cell_type": "markdown",
   "id": "20aaec4f",
   "metadata": {},
   "source": [
    "- As now all the information in the data frame looks like numeric let's convert all columns to numeric"
   ]
  },
  {
   "cell_type": "code",
   "execution_count": 17,
   "id": "9279c4e8",
   "metadata": {},
   "outputs": [],
   "source": [
    "def numeric(df):\n",
    "    for x in df.columns:\n",
    "        a = df[x].dtypes == 'object'\n",
    "        if a == True:\n",
    "            df[x] = pd.to_numeric(df[x], errors='coerce')\n",
    "        else:\n",
    "            pass"
   ]
  },
  {
   "cell_type": "code",
   "execution_count": 18,
   "id": "e337f1ce",
   "metadata": {},
   "outputs": [],
   "source": [
    "numeric(air_quality)"
   ]
  },
  {
   "cell_type": "code",
   "execution_count": 19,
   "id": "8fe8d763",
   "metadata": {},
   "outputs": [
    {
     "data": {
      "text/plain": [
       "newdate      int64\n",
       "pm25       float64\n",
       "pm10       float64\n",
       "o3         float64\n",
       "no2        float64\n",
       "so2        float64\n",
       "co         float64\n",
       "dtype: object"
      ]
     },
     "execution_count": 19,
     "metadata": {},
     "output_type": "execute_result"
    }
   ],
   "source": [
    "air_quality.dtypes"
   ]
  },
  {
   "cell_type": "markdown",
   "id": "b449b6e8",
   "metadata": {},
   "source": [
    "- Checking + Treating NaN values after transformation in numeric"
   ]
  },
  {
   "cell_type": "code",
   "execution_count": 20,
   "id": "ff5e949e",
   "metadata": {},
   "outputs": [
    {
     "data": {
      "text/plain": [
       "newdate       0\n",
       "pm25        401\n",
       "pm10          9\n",
       "o3           46\n",
       "no2          12\n",
       "so2        1979\n",
       "co          465\n",
       "dtype: int64"
      ]
     },
     "execution_count": 20,
     "metadata": {},
     "output_type": "execute_result"
    }
   ],
   "source": [
    "air_quality.isna().sum()"
   ]
  },
  {
   "cell_type": "code",
   "execution_count": 21,
   "id": "4a3df1aa",
   "metadata": {},
   "outputs": [
    {
     "data": {
      "text/html": [
       "<div>\n",
       "<style scoped>\n",
       "    .dataframe tbody tr th:only-of-type {\n",
       "        vertical-align: middle;\n",
       "    }\n",
       "\n",
       "    .dataframe tbody tr th {\n",
       "        vertical-align: top;\n",
       "    }\n",
       "\n",
       "    .dataframe thead th {\n",
       "        text-align: right;\n",
       "    }\n",
       "</style>\n",
       "<table border=\"1\" class=\"dataframe\">\n",
       "  <thead>\n",
       "    <tr style=\"text-align: right;\">\n",
       "      <th></th>\n",
       "      <th>gas</th>\n",
       "      <th>NaN</th>\n",
       "      <th>NaN%</th>\n",
       "    </tr>\n",
       "  </thead>\n",
       "  <tbody>\n",
       "    <tr>\n",
       "      <th>0</th>\n",
       "      <td>newdate</td>\n",
       "      <td>0</td>\n",
       "      <td>0.00%</td>\n",
       "    </tr>\n",
       "    <tr>\n",
       "      <th>1</th>\n",
       "      <td>pm25</td>\n",
       "      <td>401</td>\n",
       "      <td>15.04%</td>\n",
       "    </tr>\n",
       "    <tr>\n",
       "      <th>2</th>\n",
       "      <td>pm10</td>\n",
       "      <td>9</td>\n",
       "      <td>0.34%</td>\n",
       "    </tr>\n",
       "    <tr>\n",
       "      <th>3</th>\n",
       "      <td>o3</td>\n",
       "      <td>46</td>\n",
       "      <td>1.73%</td>\n",
       "    </tr>\n",
       "    <tr>\n",
       "      <th>4</th>\n",
       "      <td>no2</td>\n",
       "      <td>12</td>\n",
       "      <td>0.45%</td>\n",
       "    </tr>\n",
       "    <tr>\n",
       "      <th>5</th>\n",
       "      <td>so2</td>\n",
       "      <td>1979</td>\n",
       "      <td>74.23%</td>\n",
       "    </tr>\n",
       "    <tr>\n",
       "      <th>6</th>\n",
       "      <td>co</td>\n",
       "      <td>465</td>\n",
       "      <td>17.44%</td>\n",
       "    </tr>\n",
       "  </tbody>\n",
       "</table>\n",
       "</div>"
      ],
      "text/plain": [
       "       gas   NaN    NaN%\n",
       "0  newdate     0   0.00%\n",
       "1     pm25   401  15.04%\n",
       "2     pm10     9   0.34%\n",
       "3       o3    46   1.73%\n",
       "4      no2    12   0.45%\n",
       "5      so2  1979  74.23%\n",
       "6       co   465  17.44%"
      ]
     },
     "execution_count": 21,
     "metadata": {},
     "output_type": "execute_result"
    }
   ],
   "source": [
    "gas = air_quality.columns.tolist()\n",
    "NaN = air_quality.isna().sum()\n",
    "NaNperc = air_quality.isna().sum()/air_quality.shape[0]\n",
    "aqNaN = pd.DataFrame(list(zip(gas, NaN, NaNperc)),\n",
    "               columns =['gas', 'NaN', 'NaN%'])\n",
    "aqNaN['NaN%'] = aqNaN['NaN%'].map('{:.2%}'.format)\n",
    "aqNaN"
   ]
  },
  {
   "cell_type": "markdown",
   "id": "58dd3118",
   "metadata": {},
   "source": [
    "- Based on the NaN table we can see that we don't have much information about so2, so let's drop the column."
   ]
  },
  {
   "cell_type": "code",
   "execution_count": 26,
   "id": "10885e5a",
   "metadata": {},
   "outputs": [],
   "source": [
    "air_quality = air_quality.drop(['so2'], axis=1)"
   ]
  },
  {
   "cell_type": "markdown",
   "id": "b2358987",
   "metadata": {},
   "source": [
    "- Filling NaNs"
   ]
  },
  {
   "cell_type": "code",
   "execution_count": 22,
   "id": "928b9263",
   "metadata": {},
   "outputs": [],
   "source": [
    "def fillnas(df, lstcols):\n",
    "    for x in lstcols:\n",
    "        a = mode(df[x])\n",
    "        df[x] = df[x].fillna(a)"
   ]
  },
  {
   "cell_type": "code",
   "execution_count": 23,
   "id": "f0789db8",
   "metadata": {},
   "outputs": [],
   "source": [
    "nans = ['pm25', 'pm10', 'o3', 'no2', 'co']"
   ]
  },
  {
   "cell_type": "code",
   "execution_count": 24,
   "id": "4e7d56c3",
   "metadata": {},
   "outputs": [],
   "source": [
    "fillnas(air_quality, nans)"
   ]
  },
  {
   "cell_type": "code",
   "execution_count": 27,
   "id": "c1b63a58",
   "metadata": {},
   "outputs": [
    {
     "data": {
      "text/html": [
       "<div>\n",
       "<style scoped>\n",
       "    .dataframe tbody tr th:only-of-type {\n",
       "        vertical-align: middle;\n",
       "    }\n",
       "\n",
       "    .dataframe tbody tr th {\n",
       "        vertical-align: top;\n",
       "    }\n",
       "\n",
       "    .dataframe thead th {\n",
       "        text-align: right;\n",
       "    }\n",
       "</style>\n",
       "<table border=\"1\" class=\"dataframe\">\n",
       "  <thead>\n",
       "    <tr style=\"text-align: right;\">\n",
       "      <th></th>\n",
       "      <th>gas</th>\n",
       "      <th>NaN</th>\n",
       "      <th>NaN%</th>\n",
       "    </tr>\n",
       "  </thead>\n",
       "  <tbody>\n",
       "    <tr>\n",
       "      <th>0</th>\n",
       "      <td>newdate</td>\n",
       "      <td>0</td>\n",
       "      <td>0.00%</td>\n",
       "    </tr>\n",
       "    <tr>\n",
       "      <th>1</th>\n",
       "      <td>pm25</td>\n",
       "      <td>0</td>\n",
       "      <td>0.00%</td>\n",
       "    </tr>\n",
       "    <tr>\n",
       "      <th>2</th>\n",
       "      <td>pm10</td>\n",
       "      <td>0</td>\n",
       "      <td>0.00%</td>\n",
       "    </tr>\n",
       "    <tr>\n",
       "      <th>3</th>\n",
       "      <td>o3</td>\n",
       "      <td>0</td>\n",
       "      <td>0.00%</td>\n",
       "    </tr>\n",
       "    <tr>\n",
       "      <th>4</th>\n",
       "      <td>no2</td>\n",
       "      <td>0</td>\n",
       "      <td>0.00%</td>\n",
       "    </tr>\n",
       "    <tr>\n",
       "      <th>5</th>\n",
       "      <td>co</td>\n",
       "      <td>0</td>\n",
       "      <td>0.00%</td>\n",
       "    </tr>\n",
       "  </tbody>\n",
       "</table>\n",
       "</div>"
      ],
      "text/plain": [
       "       gas  NaN   NaN%\n",
       "0  newdate    0  0.00%\n",
       "1     pm25    0  0.00%\n",
       "2     pm10    0  0.00%\n",
       "3       o3    0  0.00%\n",
       "4      no2    0  0.00%\n",
       "5       co    0  0.00%"
      ]
     },
     "execution_count": 27,
     "metadata": {},
     "output_type": "execute_result"
    }
   ],
   "source": [
    "gas = air_quality.columns.tolist()\n",
    "NaN = air_quality.isna().sum()\n",
    "NaNperc = air_quality.isna().sum()/air_quality.shape[0]\n",
    "aqNaN = pd.DataFrame(list(zip(gas, NaN, NaNperc)),\n",
    "               columns =['gas', 'NaN', 'NaN%'])\n",
    "aqNaN['NaN%'] = aqNaN['NaN%'].map('{:.2%}'.format)\n",
    "aqNaN"
   ]
  },
  {
   "cell_type": "markdown",
   "id": "96ada0ff",
   "metadata": {},
   "source": [
    "- Checking if we have all days in a sequence"
   ]
  },
  {
   "cell_type": "code",
   "execution_count": 28,
   "id": "212af226",
   "metadata": {},
   "outputs": [
    {
     "data": {
      "text/html": [
       "<div>\n",
       "<style scoped>\n",
       "    .dataframe tbody tr th:only-of-type {\n",
       "        vertical-align: middle;\n",
       "    }\n",
       "\n",
       "    .dataframe tbody tr th {\n",
       "        vertical-align: top;\n",
       "    }\n",
       "\n",
       "    .dataframe thead th {\n",
       "        text-align: right;\n",
       "    }\n",
       "</style>\n",
       "<table border=\"1\" class=\"dataframe\">\n",
       "  <thead>\n",
       "    <tr style=\"text-align: right;\">\n",
       "      <th></th>\n",
       "      <th>newdate</th>\n",
       "      <th>pm25</th>\n",
       "      <th>pm10</th>\n",
       "      <th>o3</th>\n",
       "      <th>no2</th>\n",
       "      <th>co</th>\n",
       "    </tr>\n",
       "  </thead>\n",
       "  <tbody>\n",
       "    <tr>\n",
       "      <th>2664</th>\n",
       "      <td>20131231</td>\n",
       "      <td>50.0</td>\n",
       "      <td>19.0</td>\n",
       "      <td>25.0</td>\n",
       "      <td>30.0</td>\n",
       "      <td>3.0</td>\n",
       "    </tr>\n",
       "    <tr>\n",
       "      <th>2579</th>\n",
       "      <td>20140101</td>\n",
       "      <td>50.0</td>\n",
       "      <td>42.0</td>\n",
       "      <td>25.0</td>\n",
       "      <td>32.0</td>\n",
       "      <td>3.0</td>\n",
       "    </tr>\n",
       "    <tr>\n",
       "      <th>2580</th>\n",
       "      <td>20140102</td>\n",
       "      <td>50.0</td>\n",
       "      <td>14.0</td>\n",
       "      <td>25.0</td>\n",
       "      <td>28.0</td>\n",
       "      <td>3.0</td>\n",
       "    </tr>\n",
       "    <tr>\n",
       "      <th>2581</th>\n",
       "      <td>20140103</td>\n",
       "      <td>50.0</td>\n",
       "      <td>17.0</td>\n",
       "      <td>25.0</td>\n",
       "      <td>26.0</td>\n",
       "      <td>3.0</td>\n",
       "    </tr>\n",
       "    <tr>\n",
       "      <th>2582</th>\n",
       "      <td>20140104</td>\n",
       "      <td>50.0</td>\n",
       "      <td>19.0</td>\n",
       "      <td>25.0</td>\n",
       "      <td>28.0</td>\n",
       "      <td>3.0</td>\n",
       "    </tr>\n",
       "  </tbody>\n",
       "</table>\n",
       "</div>"
      ],
      "text/plain": [
       "       newdate  pm25  pm10    o3   no2   co\n",
       "2664  20131231  50.0  19.0  25.0  30.0  3.0\n",
       "2579  20140101  50.0  42.0  25.0  32.0  3.0\n",
       "2580  20140102  50.0  14.0  25.0  28.0  3.0\n",
       "2581  20140103  50.0  17.0  25.0  26.0  3.0\n",
       "2582  20140104  50.0  19.0  25.0  28.0  3.0"
      ]
     },
     "execution_count": 28,
     "metadata": {},
     "output_type": "execute_result"
    }
   ],
   "source": [
    "air_quality.head() #getting start date"
   ]
  },
  {
   "cell_type": "code",
   "execution_count": 29,
   "id": "48270154",
   "metadata": {},
   "outputs": [
    {
     "data": {
      "text/html": [
       "<div>\n",
       "<style scoped>\n",
       "    .dataframe tbody tr th:only-of-type {\n",
       "        vertical-align: middle;\n",
       "    }\n",
       "\n",
       "    .dataframe tbody tr th {\n",
       "        vertical-align: top;\n",
       "    }\n",
       "\n",
       "    .dataframe thead th {\n",
       "        text-align: right;\n",
       "    }\n",
       "</style>\n",
       "<table border=\"1\" class=\"dataframe\">\n",
       "  <thead>\n",
       "    <tr style=\"text-align: right;\">\n",
       "      <th></th>\n",
       "      <th>newdate</th>\n",
       "      <th>pm25</th>\n",
       "      <th>pm10</th>\n",
       "      <th>o3</th>\n",
       "      <th>no2</th>\n",
       "      <th>co</th>\n",
       "    </tr>\n",
       "  </thead>\n",
       "  <tbody>\n",
       "    <tr>\n",
       "      <th>2276</th>\n",
       "      <td>20211112</td>\n",
       "      <td>50.0</td>\n",
       "      <td>40.0</td>\n",
       "      <td>15.0</td>\n",
       "      <td>20.0</td>\n",
       "      <td>3.0</td>\n",
       "    </tr>\n",
       "    <tr>\n",
       "      <th>2277</th>\n",
       "      <td>20211113</td>\n",
       "      <td>50.0</td>\n",
       "      <td>22.0</td>\n",
       "      <td>9.0</td>\n",
       "      <td>12.0</td>\n",
       "      <td>3.0</td>\n",
       "    </tr>\n",
       "    <tr>\n",
       "      <th>2278</th>\n",
       "      <td>20211114</td>\n",
       "      <td>50.0</td>\n",
       "      <td>22.0</td>\n",
       "      <td>15.0</td>\n",
       "      <td>13.0</td>\n",
       "      <td>3.0</td>\n",
       "    </tr>\n",
       "    <tr>\n",
       "      <th>2279</th>\n",
       "      <td>20211115</td>\n",
       "      <td>50.0</td>\n",
       "      <td>25.0</td>\n",
       "      <td>13.0</td>\n",
       "      <td>16.0</td>\n",
       "      <td>3.0</td>\n",
       "    </tr>\n",
       "    <tr>\n",
       "      <th>2280</th>\n",
       "      <td>20211116</td>\n",
       "      <td>50.0</td>\n",
       "      <td>40.0</td>\n",
       "      <td>25.0</td>\n",
       "      <td>20.0</td>\n",
       "      <td>3.0</td>\n",
       "    </tr>\n",
       "  </tbody>\n",
       "</table>\n",
       "</div>"
      ],
      "text/plain": [
       "       newdate  pm25  pm10    o3   no2   co\n",
       "2276  20211112  50.0  40.0  15.0  20.0  3.0\n",
       "2277  20211113  50.0  22.0   9.0  12.0  3.0\n",
       "2278  20211114  50.0  22.0  15.0  13.0  3.0\n",
       "2279  20211115  50.0  25.0  13.0  16.0  3.0\n",
       "2280  20211116  50.0  40.0  25.0  20.0  3.0"
      ]
     },
     "execution_count": 29,
     "metadata": {},
     "output_type": "execute_result"
    }
   ],
   "source": [
    "air_quality.tail() #getting end date"
   ]
  },
  {
   "cell_type": "code",
   "execution_count": 30,
   "id": "5fe3a6e3",
   "metadata": {},
   "outputs": [],
   "source": [
    "def datescheck(dfdatecol, starty, startm, startd, endy, endm, endd):\n",
    "    \n",
    "    # Calculating the days within the dataset interval based on the head() and tail()\n",
    "    d0 = date(starty, startm, startd)\n",
    "    d1 = date(endy, endm, endd)\n",
    "    delta = (d1 - d0).days\n",
    "\n",
    "    # Calculating the amount of lines in the dataset\n",
    "    delta2 = len(dfdatecol)-1\n",
    "\n",
    "    # Doing the check\n",
    "    if (int(delta) - delta2) == 0:\n",
    "        print('Ok number of rows!')\n",
    "    else:\n",
    "        print('You have a difference of rows, please check missing information.', int(delta) - delta2, 'missing values')"
   ]
  },
  {
   "cell_type": "code",
   "execution_count": 31,
   "id": "050bc3d2",
   "metadata": {},
   "outputs": [
    {
     "name": "stdout",
     "output_type": "stream",
     "text": [
      "You have a difference of rows, please check missing information. 212 missing values\n"
     ]
    }
   ],
   "source": [
    "datescheck(air_quality['newdate'], 2013, 12, 31, 2021, 11, 16)"
   ]
  },
  {
   "cell_type": "markdown",
   "id": "77f132f8",
   "metadata": {},
   "source": [
    "- On excel was possible to see that 6 months of information are missing from 06/2017 to 01/2018\n",
    "\n",
    "- Let's decide what to do with the missing information after merging the tables"
   ]
  },
  {
   "cell_type": "markdown",
   "id": "89a6ee56",
   "metadata": {},
   "source": [
    "- Renaming date column + setting date as he index"
   ]
  },
  {
   "cell_type": "code",
   "execution_count": 32,
   "id": "afe2dbf2",
   "metadata": {},
   "outputs": [],
   "source": [
    "air_quality = air_quality.rename(columns={'newdate': 'date'})"
   ]
  },
  {
   "cell_type": "code",
   "execution_count": 33,
   "id": "c1b2d00b",
   "metadata": {},
   "outputs": [],
   "source": [
    "air_quality = air_quality.set_index('date')"
   ]
  },
  {
   "cell_type": "markdown",
   "id": "31f533e9",
   "metadata": {},
   "source": [
    "- Checking some stats from the dataset"
   ]
  },
  {
   "cell_type": "code",
   "execution_count": 34,
   "id": "dee2c795",
   "metadata": {},
   "outputs": [
    {
     "data": {
      "text/html": [
       "<div>\n",
       "<style scoped>\n",
       "    .dataframe tbody tr th:only-of-type {\n",
       "        vertical-align: middle;\n",
       "    }\n",
       "\n",
       "    .dataframe tbody tr th {\n",
       "        vertical-align: top;\n",
       "    }\n",
       "\n",
       "    .dataframe thead th {\n",
       "        text-align: right;\n",
       "    }\n",
       "</style>\n",
       "<table border=\"1\" class=\"dataframe\">\n",
       "  <thead>\n",
       "    <tr style=\"text-align: right;\">\n",
       "      <th></th>\n",
       "      <th>count</th>\n",
       "      <th>mean</th>\n",
       "      <th>std</th>\n",
       "      <th>min</th>\n",
       "      <th>25%</th>\n",
       "      <th>50%</th>\n",
       "      <th>75%</th>\n",
       "      <th>max</th>\n",
       "      <th>iqr</th>\n",
       "    </tr>\n",
       "  </thead>\n",
       "  <tbody>\n",
       "    <tr>\n",
       "      <th>pm25</th>\n",
       "      <td>2666.0</td>\n",
       "      <td>58.0</td>\n",
       "      <td>21.0</td>\n",
       "      <td>11.0</td>\n",
       "      <td>45.0</td>\n",
       "      <td>50.0</td>\n",
       "      <td>65.0</td>\n",
       "      <td>172.0</td>\n",
       "      <td>20.0</td>\n",
       "    </tr>\n",
       "    <tr>\n",
       "      <th>pm10</th>\n",
       "      <td>2666.0</td>\n",
       "      <td>25.0</td>\n",
       "      <td>11.0</td>\n",
       "      <td>8.0</td>\n",
       "      <td>19.0</td>\n",
       "      <td>23.0</td>\n",
       "      <td>30.0</td>\n",
       "      <td>263.0</td>\n",
       "      <td>11.0</td>\n",
       "    </tr>\n",
       "    <tr>\n",
       "      <th>o3</th>\n",
       "      <td>2666.0</td>\n",
       "      <td>26.0</td>\n",
       "      <td>12.0</td>\n",
       "      <td>1.0</td>\n",
       "      <td>20.0</td>\n",
       "      <td>26.0</td>\n",
       "      <td>31.0</td>\n",
       "      <td>205.0</td>\n",
       "      <td>11.0</td>\n",
       "    </tr>\n",
       "    <tr>\n",
       "      <th>no2</th>\n",
       "      <td>2666.0</td>\n",
       "      <td>23.0</td>\n",
       "      <td>8.0</td>\n",
       "      <td>3.0</td>\n",
       "      <td>17.0</td>\n",
       "      <td>22.0</td>\n",
       "      <td>28.0</td>\n",
       "      <td>51.0</td>\n",
       "      <td>11.0</td>\n",
       "    </tr>\n",
       "    <tr>\n",
       "      <th>co</th>\n",
       "      <td>2666.0</td>\n",
       "      <td>3.0</td>\n",
       "      <td>1.0</td>\n",
       "      <td>1.0</td>\n",
       "      <td>2.0</td>\n",
       "      <td>3.0</td>\n",
       "      <td>3.0</td>\n",
       "      <td>15.0</td>\n",
       "      <td>1.0</td>\n",
       "    </tr>\n",
       "  </tbody>\n",
       "</table>\n",
       "</div>"
      ],
      "text/plain": [
       "       count  mean   std   min   25%   50%   75%    max   iqr\n",
       "pm25  2666.0  58.0  21.0  11.0  45.0  50.0  65.0  172.0  20.0\n",
       "pm10  2666.0  25.0  11.0   8.0  19.0  23.0  30.0  263.0  11.0\n",
       "o3    2666.0  26.0  12.0   1.0  20.0  26.0  31.0  205.0  11.0\n",
       "no2   2666.0  23.0   8.0   3.0  17.0  22.0  28.0   51.0  11.0\n",
       "co    2666.0   3.0   1.0   1.0   2.0   3.0   3.0   15.0   1.0"
      ]
     },
     "execution_count": 34,
     "metadata": {},
     "output_type": "execute_result"
    }
   ],
   "source": [
    "summary = air_quality.describe().T\n",
    "# iqr -> inter quartile range\n",
    "summary['iqr'] = summary['75%']-summary['25%']\n",
    "summary = summary.apply(round) # lambda x: round(x, 2)\n",
    "summary"
   ]
  },
  {
   "cell_type": "markdown",
   "id": "58057305",
   "metadata": {},
   "source": [
    "- From the table above we can see that the max values from the table are probably wrong as the iqr is much smaller. Let's analyze those max values."
   ]
  },
  {
   "cell_type": "code",
   "execution_count": 35,
   "id": "3d9b6b50",
   "metadata": {
    "scrolled": false
   },
   "outputs": [
    {
     "data": {
      "text/html": [
       "<div>\n",
       "<style scoped>\n",
       "    .dataframe tbody tr th:only-of-type {\n",
       "        vertical-align: middle;\n",
       "    }\n",
       "\n",
       "    .dataframe tbody tr th {\n",
       "        vertical-align: top;\n",
       "    }\n",
       "\n",
       "    .dataframe thead th {\n",
       "        text-align: right;\n",
       "    }\n",
       "</style>\n",
       "<table border=\"1\" class=\"dataframe\">\n",
       "  <thead>\n",
       "    <tr style=\"text-align: right;\">\n",
       "      <th></th>\n",
       "      <th>pm25</th>\n",
       "      <th>pm10</th>\n",
       "      <th>o3</th>\n",
       "      <th>no2</th>\n",
       "      <th>co</th>\n",
       "    </tr>\n",
       "    <tr>\n",
       "      <th>date</th>\n",
       "      <th></th>\n",
       "      <th></th>\n",
       "      <th></th>\n",
       "      <th></th>\n",
       "      <th></th>\n",
       "    </tr>\n",
       "  </thead>\n",
       "  <tbody>\n",
       "    <tr>\n",
       "      <th>20141130</th>\n",
       "      <td>119.0</td>\n",
       "      <td>49.0</td>\n",
       "      <td>1.0</td>\n",
       "      <td>18.0</td>\n",
       "      <td>3.0</td>\n",
       "    </tr>\n",
       "    <tr>\n",
       "      <th>20141202</th>\n",
       "      <td>111.0</td>\n",
       "      <td>48.0</td>\n",
       "      <td>4.0</td>\n",
       "      <td>22.0</td>\n",
       "      <td>3.0</td>\n",
       "    </tr>\n",
       "    <tr>\n",
       "      <th>20141204</th>\n",
       "      <td>113.0</td>\n",
       "      <td>50.0</td>\n",
       "      <td>5.0</td>\n",
       "      <td>22.0</td>\n",
       "      <td>3.0</td>\n",
       "    </tr>\n",
       "    <tr>\n",
       "      <th>20141205</th>\n",
       "      <td>125.0</td>\n",
       "      <td>49.0</td>\n",
       "      <td>1.0</td>\n",
       "      <td>27.0</td>\n",
       "      <td>3.0</td>\n",
       "    </tr>\n",
       "    <tr>\n",
       "      <th>20150101</th>\n",
       "      <td>156.0</td>\n",
       "      <td>27.0</td>\n",
       "      <td>27.0</td>\n",
       "      <td>14.0</td>\n",
       "      <td>3.0</td>\n",
       "    </tr>\n",
       "    <tr>\n",
       "      <th>...</th>\n",
       "      <td>...</td>\n",
       "      <td>...</td>\n",
       "      <td>...</td>\n",
       "      <td>...</td>\n",
       "      <td>...</td>\n",
       "    </tr>\n",
       "    <tr>\n",
       "      <th>20190421</th>\n",
       "      <td>131.0</td>\n",
       "      <td>39.0</td>\n",
       "      <td>59.0</td>\n",
       "      <td>24.0</td>\n",
       "      <td>4.0</td>\n",
       "    </tr>\n",
       "    <tr>\n",
       "      <th>20200101</th>\n",
       "      <td>165.0</td>\n",
       "      <td>27.0</td>\n",
       "      <td>7.0</td>\n",
       "      <td>18.0</td>\n",
       "      <td>3.0</td>\n",
       "    </tr>\n",
       "    <tr>\n",
       "      <th>20201130</th>\n",
       "      <td>119.0</td>\n",
       "      <td>27.0</td>\n",
       "      <td>24.0</td>\n",
       "      <td>15.0</td>\n",
       "      <td>3.0</td>\n",
       "    </tr>\n",
       "    <tr>\n",
       "      <th>20210101</th>\n",
       "      <td>172.0</td>\n",
       "      <td>26.0</td>\n",
       "      <td>8.0</td>\n",
       "      <td>24.0</td>\n",
       "      <td>5.0</td>\n",
       "    </tr>\n",
       "    <tr>\n",
       "      <th>20210303</th>\n",
       "      <td>126.0</td>\n",
       "      <td>39.0</td>\n",
       "      <td>31.0</td>\n",
       "      <td>20.0</td>\n",
       "      <td>3.0</td>\n",
       "    </tr>\n",
       "  </tbody>\n",
       "</table>\n",
       "<p>81 rows × 5 columns</p>\n",
       "</div>"
      ],
      "text/plain": [
       "           pm25  pm10    o3   no2   co\n",
       "date                                  \n",
       "20141130  119.0  49.0   1.0  18.0  3.0\n",
       "20141202  111.0  48.0   4.0  22.0  3.0\n",
       "20141204  113.0  50.0   5.0  22.0  3.0\n",
       "20141205  125.0  49.0   1.0  27.0  3.0\n",
       "20150101  156.0  27.0  27.0  14.0  3.0\n",
       "...         ...   ...   ...   ...  ...\n",
       "20190421  131.0  39.0  59.0  24.0  4.0\n",
       "20200101  165.0  27.0   7.0  18.0  3.0\n",
       "20201130  119.0  27.0  24.0  15.0  3.0\n",
       "20210101  172.0  26.0   8.0  24.0  5.0\n",
       "20210303  126.0  39.0  31.0  20.0  3.0\n",
       "\n",
       "[81 rows x 5 columns]"
      ]
     },
     "execution_count": 35,
     "metadata": {},
     "output_type": "execute_result"
    }
   ],
   "source": [
    "air_quality[air_quality['pm25'] > 110] #110 is the cut for 'very high' concentration of the pollutant"
   ]
  },
  {
   "cell_type": "code",
   "execution_count": 36,
   "id": "deb29ea5",
   "metadata": {},
   "outputs": [
    {
     "data": {
      "image/png": "[encoded data removed]",
      "text/plain": [
       "<Figure size 432x288 with 1 Axes>"
      ]
     },
     "metadata": {
      "needs_background": "light"
     },
     "output_type": "display_data"
    }
   ],
   "source": [
    "sns.distplot(air_quality['pm25'], bins=40)\n",
    "plt.show()"
   ]
  },
  {
   "cell_type": "markdown",
   "id": "f196ca5e",
   "metadata": {},
   "source": [
    "- The peak column are all the missing values replaced by the mode"
   ]
  },
  {
   "cell_type": "code",
   "execution_count": 37,
   "id": "b37a4b57",
   "metadata": {},
   "outputs": [
    {
     "data": {
      "image/png": "[encoded data removed]",
      "text/plain": [
       "<Figure size 432x288 with 1 Axes>"
      ]
     },
     "metadata": {
      "needs_background": "light"
     },
     "output_type": "display_data"
    }
   ],
   "source": [
    "sns.boxplot(x='pm25', data=air_quality)\n",
    "plt.show()"
   ]
  },
  {
   "cell_type": "code",
   "execution_count": 38,
   "id": "4066f0de",
   "metadata": {
    "scrolled": true
   },
   "outputs": [
    {
     "data": {
      "text/html": [
       "<div>\n",
       "<style scoped>\n",
       "    .dataframe tbody tr th:only-of-type {\n",
       "        vertical-align: middle;\n",
       "    }\n",
       "\n",
       "    .dataframe tbody tr th {\n",
       "        vertical-align: top;\n",
       "    }\n",
       "\n",
       "    .dataframe thead th {\n",
       "        text-align: right;\n",
       "    }\n",
       "</style>\n",
       "<table border=\"1\" class=\"dataframe\">\n",
       "  <thead>\n",
       "    <tr style=\"text-align: right;\">\n",
       "      <th></th>\n",
       "      <th>pm25</th>\n",
       "      <th>pm10</th>\n",
       "      <th>o3</th>\n",
       "      <th>no2</th>\n",
       "      <th>co</th>\n",
       "    </tr>\n",
       "    <tr>\n",
       "      <th>date</th>\n",
       "      <th></th>\n",
       "      <th></th>\n",
       "      <th></th>\n",
       "      <th></th>\n",
       "      <th></th>\n",
       "    </tr>\n",
       "  </thead>\n",
       "  <tbody>\n",
       "    <tr>\n",
       "      <th>20141018</th>\n",
       "      <td>50.0</td>\n",
       "      <td>263.0</td>\n",
       "      <td>12.0</td>\n",
       "      <td>34.0</td>\n",
       "      <td>3.0</td>\n",
       "    </tr>\n",
       "    <tr>\n",
       "      <th>20201231</th>\n",
       "      <td>71.0</td>\n",
       "      <td>103.0</td>\n",
       "      <td>11.0</td>\n",
       "      <td>28.0</td>\n",
       "      <td>7.0</td>\n",
       "    </tr>\n",
       "  </tbody>\n",
       "</table>\n",
       "</div>"
      ],
      "text/plain": [
       "          pm25   pm10    o3   no2   co\n",
       "date                                  \n",
       "20141018  50.0  263.0  12.0  34.0  3.0\n",
       "20201231  71.0  103.0  11.0  28.0  7.0"
      ]
     },
     "execution_count": 38,
     "metadata": {},
     "output_type": "execute_result"
    }
   ],
   "source": [
    "air_quality[air_quality['pm10'] > 90] #90 is the cut for 'high' concentration of the pollutant"
   ]
  },
  {
   "cell_type": "code",
   "execution_count": 39,
   "id": "75856d0a",
   "metadata": {},
   "outputs": [
    {
     "data": {
      "image/png": "[encoded data removed]",
      "text/plain": [
       "<Figure size 432x288 with 1 Axes>"
      ]
     },
     "metadata": {
      "needs_background": "light"
     },
     "output_type": "display_data"
    }
   ],
   "source": [
    "sns.distplot(air_quality['pm10'], bins=40)\n",
    "plt.show()"
   ]
  },
  {
   "cell_type": "code",
   "execution_count": 40,
   "id": "6ea43725",
   "metadata": {},
   "outputs": [
    {
     "data": {
      "image/png": "[encoded data removed]",
      "text/plain": [
       "<Figure size 432x288 with 1 Axes>"
      ]
     },
     "metadata": {
      "needs_background": "light"
     },
     "output_type": "display_data"
    }
   ],
   "source": [
    "sns.boxplot(x='pm10', data=air_quality)\n",
    "plt.show()"
   ]
  },
  {
   "cell_type": "markdown",
   "id": "fe578ab4",
   "metadata": {},
   "source": [
    "- It's possible to see that the 2 values higher than 90 are not compatible and should be treated."
   ]
  },
  {
   "cell_type": "code",
   "execution_count": 41,
   "id": "6f78effa",
   "metadata": {
    "scrolled": true
   },
   "outputs": [
    {
     "data": {
      "text/html": [
       "<div>\n",
       "<style scoped>\n",
       "    .dataframe tbody tr th:only-of-type {\n",
       "        vertical-align: middle;\n",
       "    }\n",
       "\n",
       "    .dataframe tbody tr th {\n",
       "        vertical-align: top;\n",
       "    }\n",
       "\n",
       "    .dataframe thead th {\n",
       "        text-align: right;\n",
       "    }\n",
       "</style>\n",
       "<table border=\"1\" class=\"dataframe\">\n",
       "  <thead>\n",
       "    <tr style=\"text-align: right;\">\n",
       "      <th></th>\n",
       "      <th>pm25</th>\n",
       "      <th>pm10</th>\n",
       "      <th>o3</th>\n",
       "      <th>no2</th>\n",
       "      <th>co</th>\n",
       "    </tr>\n",
       "    <tr>\n",
       "      <th>date</th>\n",
       "      <th></th>\n",
       "      <th></th>\n",
       "      <th></th>\n",
       "      <th></th>\n",
       "      <th></th>\n",
       "    </tr>\n",
       "  </thead>\n",
       "  <tbody>\n",
       "    <tr>\n",
       "      <th>20170406</th>\n",
       "      <td>61.0</td>\n",
       "      <td>31.0</td>\n",
       "      <td>205.0</td>\n",
       "      <td>24.0</td>\n",
       "      <td>2.0</td>\n",
       "    </tr>\n",
       "  </tbody>\n",
       "</table>\n",
       "</div>"
      ],
      "text/plain": [
       "          pm25  pm10     o3   no2   co\n",
       "date                                  \n",
       "20170406  61.0  31.0  205.0  24.0  2.0"
      ]
     },
     "execution_count": 41,
     "metadata": {},
     "output_type": "execute_result"
    }
   ],
   "source": [
    "air_quality[air_quality['o3'] > 120] #120 is the cut for 'medium' concentration of the pollutant"
   ]
  },
  {
   "cell_type": "code",
   "execution_count": 42,
   "id": "527637a8",
   "metadata": {
    "scrolled": true
   },
   "outputs": [
    {
     "data": {
      "image/png": "[encoded data removed]",
      "text/plain": [
       "<Figure size 432x288 with 1 Axes>"
      ]
     },
     "metadata": {
      "needs_background": "light"
     },
     "output_type": "display_data"
    }
   ],
   "source": [
    "sns.distplot(air_quality['o3'], bins=40)\n",
    "plt.show()"
   ]
  },
  {
   "cell_type": "code",
   "execution_count": 43,
   "id": "f4688433",
   "metadata": {},
   "outputs": [
    {
     "data": {
      "image/png": "[encoded data removed]",
      "text/plain": [
       "<Figure size 432x288 with 1 Axes>"
      ]
     },
     "metadata": {
      "needs_background": "light"
     },
     "output_type": "display_data"
    }
   ],
   "source": [
    "sns.boxplot(x='o3', data=air_quality)\n",
    "plt.show()"
   ]
  },
  {
   "cell_type": "markdown",
   "id": "9aacc458",
   "metadata": {},
   "source": [
    "- It's possible to see that the unique value higher than 120 is not compatible and should be treated."
   ]
  },
  {
   "cell_type": "code",
   "execution_count": 44,
   "id": "841ed5a4",
   "metadata": {
    "scrolled": false
   },
   "outputs": [
    {
     "data": {
      "image/png": "[encoded data removed]",
      "text/plain": [
       "<Figure size 432x288 with 1 Axes>"
      ]
     },
     "metadata": {
      "needs_background": "light"
     },
     "output_type": "display_data"
    }
   ],
   "source": [
    "sns.distplot(air_quality['co'], bins=40)\n",
    "plt.show()"
   ]
  },
  {
   "cell_type": "code",
   "execution_count": 45,
   "id": "e4f85ee1",
   "metadata": {},
   "outputs": [
    {
     "data": {
      "image/png": "[encoded data removed]",
      "text/plain": [
       "<Figure size 432x288 with 1 Axes>"
      ]
     },
     "metadata": {
      "needs_background": "light"
     },
     "output_type": "display_data"
    }
   ],
   "source": [
    "sns.boxplot(x='co', data=air_quality)\n",
    "plt.show()"
   ]
  },
  {
   "cell_type": "markdown",
   "id": "8b7dab8a",
   "metadata": {},
   "source": [
    "- Let's calculate the quality of the air based on the Common Air Quality Index (CAQI) (air quality index used in Europe since 2006)"
   ]
  },
  {
   "attachments": {
    "image.png": {
     "image/png": "[encoded data removed]"
    }
   },
   "cell_type": "markdown",
   "id": "e12a9aac",
   "metadata": {},
   "source": [
    "![image.png](attachment:image.png)"
   ]
  },
  {
   "cell_type": "code",
   "execution_count": 46,
   "id": "67e1d9db",
   "metadata": {},
   "outputs": [],
   "source": [
    "no2index = []\n",
    "index = ''\n",
    "\n",
    "for no2 in air_quality['no2']:\n",
    "    \n",
    "    if int(no2) == 0:\n",
    "        index = 'zero'\n",
    "    elif int(no2) < 50:\n",
    "        index = 'very low'\n",
    "    elif (int(no2) >= 50) & (int(no2) < 100):\n",
    "        index = 'low'\n",
    "    elif (int(no2) >= 100) & (int(no2) < 200):\n",
    "        index = 'medium'        \n",
    "    elif (int(no2) >= 200) & (int(no2) < 400):\n",
    "        index = 'high'\n",
    "    else: #elif no2 >= 400:\n",
    "        index = 'very high'\n",
    "    \n",
    "    no2index.append(index)\n",
    "    \n",
    "air_quality['no2index'] = no2index"
   ]
  },
  {
   "cell_type": "code",
   "execution_count": 47,
   "id": "16695f9a",
   "metadata": {
    "scrolled": true
   },
   "outputs": [
    {
     "data": {
      "text/plain": [
       "very low    2664\n",
       "low            2\n",
       "Name: no2index, dtype: int64"
      ]
     },
     "execution_count": 47,
     "metadata": {},
     "output_type": "execute_result"
    }
   ],
   "source": [
    "air_quality['no2index'].value_counts() # Imbalanced data identified"
   ]
  },
  {
   "cell_type": "code",
   "execution_count": 50,
   "id": "63d0cec6",
   "metadata": {},
   "outputs": [
    {
     "data": {
      "image/png": "[encoded data removed]",
      "text/plain": [
       "<Figure size 720x504 with 1 Axes>"
      ]
     },
     "metadata": {},
     "output_type": "display_data"
    }
   ],
   "source": [
    "# Creating dataset\n",
    "index = ['very low', 'low'] #, 'medium', 'high', 'very high']\n",
    "  \n",
    "no2 = air_quality['no2index'].value_counts().tolist()\n",
    "\n",
    "# Explode\n",
    "myexplode = [0 , 1]\n",
    "\n",
    "# Formating\n",
    "#mycolors = [\"black\", \"hotpink\", \"b\", \"#4CAF50\"]\n",
    "  \n",
    "# Creating plot\n",
    "fig = plt.figure(figsize =(10, 7))\n",
    "plt.pie(no2, labels = index, explode = myexplode) # , shadow = True, colors = mycolors)\n",
    "  \n",
    "# show plot\n",
    "plt.legend(title = \"Pollutant level:\")\n",
    "plt.show()"
   ]
  },
  {
   "cell_type": "markdown",
   "id": "2003e92c",
   "metadata": {},
   "source": [
    "- To find color options:\n",
    "\n",
    "https://www.w3schools.com/colors/colors_hexadecimal.asp\n",
    "\n",
    "https://www.w3schools.com/colors/colors_names.asp"
   ]
  },
  {
   "cell_type": "code",
   "execution_count": 51,
   "id": "c7af3c61",
   "metadata": {},
   "outputs": [],
   "source": [
    "pm10index = []\n",
    "index = ''\n",
    "\n",
    "for pm10 in air_quality['pm10']:\n",
    "    \n",
    "    if int(pm10) == 0:\n",
    "        index = 'zero'\n",
    "    elif int(pm10) < 25:\n",
    "        index = 'very low'\n",
    "    elif (int(pm10) >= 25) & (int(pm10) < 50):\n",
    "        index = 'low'\n",
    "    elif (int(pm10) >= 50) & (int(pm10) < 90):\n",
    "        index = 'medium'        \n",
    "    elif (int(pm10) >= 90) & (int(pm10) < 180):\n",
    "        index = 'high'\n",
    "    else: #elif pm10 >= 180:\n",
    "        index = 'very high'\n",
    "    \n",
    "    pm10index.append(index)\n",
    "    \n",
    "air_quality['pm10index'] = pm10index"
   ]
  },
  {
   "cell_type": "code",
   "execution_count": 52,
   "id": "9db75552",
   "metadata": {},
   "outputs": [
    {
     "data": {
      "text/plain": [
       "very low     1540\n",
       "low          1057\n",
       "medium         67\n",
       "high            1\n",
       "very high       1\n",
       "Name: pm10index, dtype: int64"
      ]
     },
     "execution_count": 52,
     "metadata": {},
     "output_type": "execute_result"
    }
   ],
   "source": [
    "air_quality['pm10index'].value_counts()"
   ]
  },
  {
   "cell_type": "markdown",
   "id": "ebcdfba5",
   "metadata": {},
   "source": [
    "- Imbalanced data identified in the sense that we have only low and very low indexes populated, but between those levels the data presents itself in a quite well balanced way, as it's possible to see on the graph bellow"
   ]
  },
  {
   "cell_type": "code",
   "execution_count": 53,
   "id": "2924653a",
   "metadata": {},
   "outputs": [
    {
     "data": {
      "image/png": "[encoded data removed]",
      "text/plain": [
       "<Figure size 720x504 with 1 Axes>"
      ]
     },
     "metadata": {},
     "output_type": "display_data"
    }
   ],
   "source": [
    "# Creating dataset\n",
    "index = ['very low', 'low', 'medium', 'high', 'very high']\n",
    "  \n",
    "pm10 = air_quality['pm10index'].value_counts().tolist()\n",
    "\n",
    "# Explode\n",
    "myexplode = [0.1, 0, 0.3, 0.5, 1]\n",
    "\n",
    "# Formating\n",
    "#mycolors = [\"black\", \"hotpink\", \"b\", \"#4CAF50\"]\n",
    "  \n",
    "# Creating plot\n",
    "fig = plt.figure(figsize =(10, 7))\n",
    "plt.pie(pm10, labels = index, explode = myexplode) # , shadow = True, colors = mycolors)\n",
    "  \n",
    "# show plot\n",
    "plt.legend(title = \"Pollutant level:\")\n",
    "plt.show()"
   ]
  },
  {
   "cell_type": "code",
   "execution_count": 54,
   "id": "3d75197d",
   "metadata": {},
   "outputs": [],
   "source": [
    "o3index = []\n",
    "index = ''\n",
    "\n",
    "for o3 in air_quality['o3']:\n",
    "    \n",
    "    if int(o3) == 0:\n",
    "        index = 'zero'\n",
    "    elif int(o3) < 60:\n",
    "        index = 'very low'\n",
    "    elif (int(o3) >= 60) & (int(o3) < 120):\n",
    "        index = 'low'\n",
    "    elif (int(o3) >= 120) & (int(o3) < 200):\n",
    "        index = 'medium'        \n",
    "    elif (int(o3) >= 200) & (int(o3) < 400):\n",
    "        index = 'high'\n",
    "    else: #elif o3 >= 400:\n",
    "        index = 'very high'\n",
    "    \n",
    "    o3index.append(index)\n",
    "    \n",
    "air_quality['o3index'] = o3index"
   ]
  },
  {
   "cell_type": "code",
   "execution_count": 55,
   "id": "b6ce8512",
   "metadata": {},
   "outputs": [
    {
     "data": {
      "text/plain": [
       "very low    2626\n",
       "low           39\n",
       "high           1\n",
       "Name: o3index, dtype: int64"
      ]
     },
     "execution_count": 55,
     "metadata": {},
     "output_type": "execute_result"
    }
   ],
   "source": [
    "air_quality['o3index'].value_counts() # Imbalanced data identified"
   ]
  },
  {
   "cell_type": "code",
   "execution_count": 56,
   "id": "45bd2c7e",
   "metadata": {},
   "outputs": [],
   "source": [
    "pm25index = []\n",
    "index = ''\n",
    "\n",
    "for pm25 in air_quality['pm25']:\n",
    "    \n",
    "    if int(pm25) == 0:\n",
    "        index = 'zero'\n",
    "    elif int(pm25) < 15:\n",
    "        index = 'very low'\n",
    "    elif (int(pm25) >= 15) & (int(pm25) < 30):\n",
    "        index = 'low'\n",
    "    elif (int(pm25) >= 30) & (int(pm25) < 55):\n",
    "        index = 'medium'        \n",
    "    elif (int(pm25) >= 55) & (int(pm25) < 110):\n",
    "        index = 'high'\n",
    "    else: #elif pm25 >= 110:\n",
    "        index = 'very high'\n",
    "    \n",
    "    pm25index.append(index)\n",
    "    \n",
    "air_quality['pm25index'] = pm25index"
   ]
  },
  {
   "cell_type": "code",
   "execution_count": 57,
   "id": "1da65462",
   "metadata": {},
   "outputs": [
    {
     "data": {
      "text/plain": [
       "medium       1496\n",
       "high         1022\n",
       "very high      85\n",
       "low            62\n",
       "very low        1\n",
       "Name: pm25index, dtype: int64"
      ]
     },
     "execution_count": 57,
     "metadata": {},
     "output_type": "execute_result"
    }
   ],
   "source": [
    "air_quality['pm25index'].value_counts()"
   ]
  },
  {
   "cell_type": "code",
   "execution_count": 58,
   "id": "29ae9f42",
   "metadata": {},
   "outputs": [
    {
     "data": {
      "image/png": "[encoded data removed]",
      "text/plain": [
       "<Figure size 720x504 with 1 Axes>"
      ]
     },
     "metadata": {},
     "output_type": "display_data"
    }
   ],
   "source": [
    "# Creating dataset\n",
    "index = ['medium', 'high', 'very high', 'low', 'very low']\n",
    "  \n",
    "pm25 = air_quality['pm25index'].value_counts().tolist()\n",
    "\n",
    "# Explode\n",
    "myexplode = [0.1, 0, 0.2, 0.2, 0.2]\n",
    "\n",
    "# Formating\n",
    "#mycolors = [\"black\", \"hotpink\", \"b\", \"#4CAF50\"]\n",
    "  \n",
    "# Creating plot\n",
    "fig = plt.figure(figsize =(10, 7))\n",
    "plt.pie(pm25, labels = index, explode = myexplode) # , shadow = True, colors = mycolors)\n",
    "  \n",
    "# show plot\n",
    "plt.legend(title = \"Pollutant level:\")\n",
    "plt.show()"
   ]
  },
  {
   "cell_type": "markdown",
   "id": "e10e51d1",
   "metadata": {},
   "source": [
    "- Checking for correlations"
   ]
  },
  {
   "cell_type": "code",
   "execution_count": 59,
   "id": "f770217f",
   "metadata": {
    "scrolled": true
   },
   "outputs": [
    {
     "data": {
      "text/html": [
       "<div>\n",
       "<style scoped>\n",
       "    .dataframe tbody tr th:only-of-type {\n",
       "        vertical-align: middle;\n",
       "    }\n",
       "\n",
       "    .dataframe tbody tr th {\n",
       "        vertical-align: top;\n",
       "    }\n",
       "\n",
       "    .dataframe thead th {\n",
       "        text-align: right;\n",
       "    }\n",
       "</style>\n",
       "<table border=\"1\" class=\"dataframe\">\n",
       "  <thead>\n",
       "    <tr style=\"text-align: right;\">\n",
       "      <th></th>\n",
       "      <th>pm25</th>\n",
       "      <th>pm10</th>\n",
       "      <th>o3</th>\n",
       "      <th>no2</th>\n",
       "      <th>co</th>\n",
       "    </tr>\n",
       "  </thead>\n",
       "  <tbody>\n",
       "    <tr>\n",
       "      <th>pm25</th>\n",
       "      <td>1.000000</td>\n",
       "      <td>0.466039</td>\n",
       "      <td>-0.110319</td>\n",
       "      <td>0.226717</td>\n",
       "      <td>0.310542</td>\n",
       "    </tr>\n",
       "    <tr>\n",
       "      <th>pm10</th>\n",
       "      <td>0.466039</td>\n",
       "      <td>1.000000</td>\n",
       "      <td>-0.059421</td>\n",
       "      <td>0.394239</td>\n",
       "      <td>0.412088</td>\n",
       "    </tr>\n",
       "    <tr>\n",
       "      <th>o3</th>\n",
       "      <td>-0.110319</td>\n",
       "      <td>-0.059421</td>\n",
       "      <td>1.000000</td>\n",
       "      <td>-0.045622</td>\n",
       "      <td>-0.221742</td>\n",
       "    </tr>\n",
       "    <tr>\n",
       "      <th>no2</th>\n",
       "      <td>0.226717</td>\n",
       "      <td>0.394239</td>\n",
       "      <td>-0.045622</td>\n",
       "      <td>1.000000</td>\n",
       "      <td>0.510532</td>\n",
       "    </tr>\n",
       "    <tr>\n",
       "      <th>co</th>\n",
       "      <td>0.310542</td>\n",
       "      <td>0.412088</td>\n",
       "      <td>-0.221742</td>\n",
       "      <td>0.510532</td>\n",
       "      <td>1.000000</td>\n",
       "    </tr>\n",
       "  </tbody>\n",
       "</table>\n",
       "</div>"
      ],
      "text/plain": [
       "          pm25      pm10        o3       no2        co\n",
       "pm25  1.000000  0.466039 -0.110319  0.226717  0.310542\n",
       "pm10  0.466039  1.000000 -0.059421  0.394239  0.412088\n",
       "o3   -0.110319 -0.059421  1.000000 -0.045622 -0.221742\n",
       "no2   0.226717  0.394239 -0.045622  1.000000  0.510532\n",
       "co    0.310542  0.412088 -0.221742  0.510532  1.000000"
      ]
     },
     "execution_count": 59,
     "metadata": {},
     "output_type": "execute_result"
    }
   ],
   "source": [
    "correlations_matrix = air_quality.corr()\n",
    "correlations_matrix"
   ]
  },
  {
   "cell_type": "code",
   "execution_count": 60,
   "id": "c4ad8482",
   "metadata": {},
   "outputs": [
    {
     "data": {
      "image/png": "[encoded data removed]",
      "text/plain": [
       "<Figure size 720x576 with 2 Axes>"
      ]
     },
     "metadata": {
      "needs_background": "light"
     },
     "output_type": "display_data"
    }
   ],
   "source": [
    "mask = np.zeros_like(correlations_matrix)\n",
    "\n",
    "mask[np.triu_indices_from(mask)] = True # optional, to hide repeat half of the matrix\n",
    "\n",
    "fig, ax = plt.subplots(figsize=(10, 8))\n",
    "ax = sns.heatmap(correlations_matrix, mask=mask, annot=True)#change annot to False to hide the text, as it's unreadable\n",
    "plt.show()"
   ]
  },
  {
   "cell_type": "markdown",
   "id": "06be28e5",
   "metadata": {},
   "source": [
    "- Exporting this treated data"
   ]
  },
  {
   "cell_type": "code",
   "execution_count": 61,
   "id": "ee35ad16",
   "metadata": {
    "scrolled": true
   },
   "outputs": [
    {
     "data": {
      "text/html": [
       "<div>\n",
       "<style scoped>\n",
       "    .dataframe tbody tr th:only-of-type {\n",
       "        vertical-align: middle;\n",
       "    }\n",
       "\n",
       "    .dataframe tbody tr th {\n",
       "        vertical-align: top;\n",
       "    }\n",
       "\n",
       "    .dataframe thead th {\n",
       "        text-align: right;\n",
       "    }\n",
       "</style>\n",
       "<table border=\"1\" class=\"dataframe\">\n",
       "  <thead>\n",
       "    <tr style=\"text-align: right;\">\n",
       "      <th></th>\n",
       "      <th>pm25</th>\n",
       "      <th>pm10</th>\n",
       "      <th>o3</th>\n",
       "      <th>no2</th>\n",
       "      <th>co</th>\n",
       "      <th>no2index</th>\n",
       "      <th>pm10index</th>\n",
       "      <th>o3index</th>\n",
       "      <th>pm25index</th>\n",
       "    </tr>\n",
       "    <tr>\n",
       "      <th>date</th>\n",
       "      <th></th>\n",
       "      <th></th>\n",
       "      <th></th>\n",
       "      <th></th>\n",
       "      <th></th>\n",
       "      <th></th>\n",
       "      <th></th>\n",
       "      <th></th>\n",
       "      <th></th>\n",
       "    </tr>\n",
       "  </thead>\n",
       "  <tbody>\n",
       "    <tr>\n",
       "      <th>20131231</th>\n",
       "      <td>50.0</td>\n",
       "      <td>19.0</td>\n",
       "      <td>25.0</td>\n",
       "      <td>30.0</td>\n",
       "      <td>3.0</td>\n",
       "      <td>very low</td>\n",
       "      <td>very low</td>\n",
       "      <td>very low</td>\n",
       "      <td>medium</td>\n",
       "    </tr>\n",
       "    <tr>\n",
       "      <th>20140101</th>\n",
       "      <td>50.0</td>\n",
       "      <td>42.0</td>\n",
       "      <td>25.0</td>\n",
       "      <td>32.0</td>\n",
       "      <td>3.0</td>\n",
       "      <td>very low</td>\n",
       "      <td>low</td>\n",
       "      <td>very low</td>\n",
       "      <td>medium</td>\n",
       "    </tr>\n",
       "    <tr>\n",
       "      <th>20140102</th>\n",
       "      <td>50.0</td>\n",
       "      <td>14.0</td>\n",
       "      <td>25.0</td>\n",
       "      <td>28.0</td>\n",
       "      <td>3.0</td>\n",
       "      <td>very low</td>\n",
       "      <td>very low</td>\n",
       "      <td>very low</td>\n",
       "      <td>medium</td>\n",
       "    </tr>\n",
       "    <tr>\n",
       "      <th>20140103</th>\n",
       "      <td>50.0</td>\n",
       "      <td>17.0</td>\n",
       "      <td>25.0</td>\n",
       "      <td>26.0</td>\n",
       "      <td>3.0</td>\n",
       "      <td>very low</td>\n",
       "      <td>very low</td>\n",
       "      <td>very low</td>\n",
       "      <td>medium</td>\n",
       "    </tr>\n",
       "    <tr>\n",
       "      <th>20140104</th>\n",
       "      <td>50.0</td>\n",
       "      <td>19.0</td>\n",
       "      <td>25.0</td>\n",
       "      <td>28.0</td>\n",
       "      <td>3.0</td>\n",
       "      <td>very low</td>\n",
       "      <td>very low</td>\n",
       "      <td>very low</td>\n",
       "      <td>medium</td>\n",
       "    </tr>\n",
       "  </tbody>\n",
       "</table>\n",
       "</div>"
      ],
      "text/plain": [
       "          pm25  pm10    o3   no2   co  no2index pm10index   o3index pm25index\n",
       "date                                                                         \n",
       "20131231  50.0  19.0  25.0  30.0  3.0  very low  very low  very low    medium\n",
       "20140101  50.0  42.0  25.0  32.0  3.0  very low       low  very low    medium\n",
       "20140102  50.0  14.0  25.0  28.0  3.0  very low  very low  very low    medium\n",
       "20140103  50.0  17.0  25.0  26.0  3.0  very low  very low  very low    medium\n",
       "20140104  50.0  19.0  25.0  28.0  3.0  very low  very low  very low    medium"
      ]
     },
     "execution_count": 61,
     "metadata": {},
     "output_type": "execute_result"
    }
   ],
   "source": [
    "air_quality.head()"
   ]
  },
  {
   "cell_type": "code",
   "execution_count": 63,
   "id": "90536792",
   "metadata": {
    "scrolled": true
   },
   "outputs": [],
   "source": [
    "air_quality1 = air_quality.copy()\n",
    "air_quality1 = air_quality1[['pm25', 'pm10', 'o3', 'no2', 'co']]"
   ]
  },
  {
   "cell_type": "code",
   "execution_count": 64,
   "id": "e7b3a8d6",
   "metadata": {},
   "outputs": [],
   "source": [
    "air_quality.to_csv('air_quality.csv')\n",
    "air_quality1.to_csv('air_quality1.csv')"
   ]
  },
  {
   "cell_type": "markdown",
   "id": "47aee607",
   "metadata": {},
   "source": [
    "### Chi Square Test"
   ]
  },
  {
   "cell_type": "code",
   "execution_count": 65,
   "id": "d364e5f2",
   "metadata": {},
   "outputs": [
    {
     "data": {
      "text/plain": [
       "(3.219636466211808, 0.5217651708010618, 4)"
      ]
     },
     "execution_count": 65,
     "metadata": {},
     "output_type": "execute_result"
    }
   ],
   "source": [
    "crosstab = pd.crosstab(air_quality['no2index'],air_quality['pm25index'])\n",
    "\n",
    "# chi square test\n",
    "[statistic, p_value, dof, arr] = stats.chi2_contingency(crosstab)\n",
    "\n",
    "# dof = observed.size - sum(observed.shape) + observed.ndim - 1\n",
    "statistic, p_value, dof"
   ]
  },
  {
   "cell_type": "code",
   "execution_count": 66,
   "id": "829d2c64",
   "metadata": {},
   "outputs": [
    {
     "data": {
      "text/plain": [
       "(32.71164319307883, 7.884187311262692e-08, 2)"
      ]
     },
     "execution_count": 66,
     "metadata": {},
     "output_type": "execute_result"
    }
   ],
   "source": [
    "crosstab = pd.crosstab(air_quality['no2index'],air_quality['o3index'])\n",
    "\n",
    "# chi square test\n",
    "[statistic, p_value, dof, arr] = stats.chi2_contingency(crosstab)\n",
    "\n",
    "# dof = observed.size - sum(observed.shape) + observed.ndim - 1\n",
    "statistic, p_value, dof"
   ]
  },
  {
   "cell_type": "code",
   "execution_count": 67,
   "id": "6e45cfe0",
   "metadata": {},
   "outputs": [
    {
     "data": {
      "text/plain": [
       "(26.90888426502372, 0.0007330571541385243, 8)"
      ]
     },
     "execution_count": 67,
     "metadata": {},
     "output_type": "execute_result"
    }
   ],
   "source": [
    "crosstab = pd.crosstab(air_quality['o3index'],air_quality['pm25index'])\n",
    "\n",
    "# chi square test\n",
    "[statistic, p_value, dof, arr] = stats.chi2_contingency(crosstab)\n",
    "\n",
    "# dof = observed.size - sum(observed.shape) + observed.ndim - 1\n",
    "statistic, p_value, dof"
   ]
  },
  {
   "cell_type": "code",
   "execution_count": 68,
   "id": "6bac5dc6",
   "metadata": {},
   "outputs": [
    {
     "data": {
      "text/plain": [
       "(39.22338052734787, 4.4678148509920705e-06, 8)"
      ]
     },
     "execution_count": 68,
     "metadata": {},
     "output_type": "execute_result"
    }
   ],
   "source": [
    "crosstab = pd.crosstab(air_quality['o3index'],air_quality['pm10index'])\n",
    "\n",
    "# chi square test\n",
    "[statistic, p_value, dof, arr] = stats.chi2_contingency(crosstab)\n",
    "\n",
    "# dof = observed.size - sum(observed.shape) + observed.ndim - 1\n",
    "statistic, p_value, dof"
   ]
  }
 ],
 "metadata": {
  "kernelspec": {
   "display_name": "Python 3",
   "language": "python",
   "name": "python3"
  },
  "language_info": {
   "codemirror_mode": {
    "name": "ipython",
    "version": 3
   },
   "file_extension": ".py",
   "mimetype": "text/x-python",
   "name": "python",
   "nbconvert_exporter": "python",
   "pygments_lexer": "ipython3",
   "version": "3.8.8"
  }
 },
 "nbformat": 4,
 "nbformat_minor": 5
}
