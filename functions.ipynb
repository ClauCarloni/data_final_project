{
 "cells": [
  {
   "cell_type": "markdown",
   "id": "7086a0a7",
   "metadata": {},
   "source": [
    "# Creating global functions"
   ]
  },
  {
   "cell_type": "markdown",
   "id": "7507535c",
   "metadata": {},
   "source": [
    "## Installing packages"
   ]
  },
  {
   "cell_type": "code",
   "execution_count": 1,
   "id": "19cea8fe",
   "metadata": {},
   "outputs": [],
   "source": [
    "import matplotlib.pyplot as plt\n",
    "import pandas as pd\n",
    "import seaborn as sns\n",
    "import numpy as np\n",
    "from statistics import mode\n",
    "import collections\n",
    "from datetime import date"
   ]
  },
  {
   "cell_type": "markdown",
   "id": "f01c627c",
   "metadata": {},
   "source": [
    "## Functions"
   ]
  },
  {
   "cell_type": "code",
   "execution_count": 2,
   "id": "7400005b",
   "metadata": {},
   "outputs": [],
   "source": [
    "def create_global_function():\n",
    "    global foo\n",
    "    def foo(): return 'bar'\n",
    "    "
   ]
  },
  {
   "cell_type": "code",
   "execution_count": 3,
   "id": "71f7ca91",
   "metadata": {},
   "outputs": [],
   "source": [
    "def standardheader(df):\n",
    "    df.columns = [x.strip(' ').lower() for x in df.columns]"
   ]
  },
  {
   "cell_type": "code",
   "execution_count": 4,
   "id": "f365b4b8",
   "metadata": {},
   "outputs": [],
   "source": [
    "def spaceout(df):\n",
    "    for x in df.columns:\n",
    "        a = df[x].dtypes == 'object'\n",
    "        if a == True:\n",
    "            df[x] = [x.strip(' ') for x in df[x]]\n",
    "        else:\n",
    "            pass"
   ]
  },
  {
   "cell_type": "code",
   "execution_count": 5,
   "id": "9adae36f",
   "metadata": {},
   "outputs": [],
   "source": [
    "def numeric(df):\n",
    "    for x in df.columns:\n",
    "        a = df[x].dtypes == 'object'\n",
    "        if a == True:\n",
    "            df[x] = pd.to_numeric(df[x], errors='coerce')\n",
    "        else:\n",
    "            pass"
   ]
  },
  {
   "cell_type": "code",
   "execution_count": 6,
   "id": "a359cbbb",
   "metadata": {},
   "outputs": [],
   "source": [
    "def fillnas(df, lstcols):\n",
    "    for x in lstcols:\n",
    "        a = mode(df[x])\n",
    "        df[x] = df[x].fillna(a)"
   ]
  },
  {
   "cell_type": "code",
   "execution_count": 7,
   "id": "787b41d5",
   "metadata": {},
   "outputs": [],
   "source": [
    "def datescheck(dfdatecol, starty, startm, startd, endy, endm, endd):\n",
    "    \n",
    "    # Calculating the days within the dataset interval based on the head() and tail()\n",
    "    d0 = date(starty, startm, startd)\n",
    "    d1 = date(endy, endm, endd)\n",
    "    delta = (d1 - d0).days\n",
    "\n",
    "    # Calculating the amount of lines in the dataset\n",
    "    delta2 = len(dfdatecol)-1\n",
    "\n",
    "    # Doing the check\n",
    "    if (int(delta) - delta2) == 0:\n",
    "        print('Ok number of rows!')\n",
    "    else:\n",
    "        print('You have a difference of rows, please check missing information.', int(delta) - delta2, 'missing values')"
   ]
  },
  {
   "cell_type": "code",
   "execution_count": 8,
   "id": "ee2b508f",
   "metadata": {},
   "outputs": [],
   "source": [
    "def hists(df):\n",
    "    for column in df.columns:\n",
    "        sns.distplot(df[column])\n",
    "        plt.show()"
   ]
  },
  {
   "cell_type": "code",
   "execution_count": 9,
   "id": "4ad39c6a",
   "metadata": {},
   "outputs": [],
   "source": [
    "def boxplots(df):\n",
    "    for column in weather2.columns:\n",
    "        sns.boxplot(x = column, data = df)\n",
    "        plt.show()"
   ]
  },
  {
   "cell_type": "code",
   "execution_count": 10,
   "id": "5a709ced",
   "metadata": {},
   "outputs": [
    {
     "data": {
      "text/plain": [
       "'\\ndef remove_outliers(df, threshold=1.5, in_columns=df.select_dtypes(np.number).columns, skip_columns=[]):\\n    for column in in_columns:\\n        if column not in skip_columns:\\n            upper = np.percentile(df[column],75)\\n            lower = np.percentile(df[column],25)\\n            iqr = upper - lower\\n            upper_limit = upper + (threshold * iqr)\\n            lower_limit = lower - (threshold * iqr)\\n            df = df[(df[column]>lower_limit) & (df[column]<upper_limit)]\\n    return df\\n'"
      ]
     },
     "execution_count": 10,
     "metadata": {},
     "output_type": "execute_result"
    }
   ],
   "source": [
    "\"\"\"\n",
    "def remove_outliers(df, threshold=1.5, in_columns=df.select_dtypes(np.number).columns, skip_columns=[]):\n",
    "    for column in in_columns:\n",
    "        if column not in skip_columns:\n",
    "            upper = np.percentile(df[column],75)\n",
    "            lower = np.percentile(df[column],25)\n",
    "            iqr = upper - lower\n",
    "            upper_limit = upper + (threshold * iqr)\n",
    "            lower_limit = lower - (threshold * iqr)\n",
    "            df = df[(df[column]>lower_limit) & (df[column]<upper_limit)]\n",
    "    return df\n",
    "\"\"\""
   ]
  }
 ],
 "metadata": {
  "kernelspec": {
   "display_name": "Python 3",
   "language": "python",
   "name": "python3"
  },
  "language_info": {
   "codemirror_mode": {
    "name": "ipython",
    "version": 3
   },
   "file_extension": ".py",
   "mimetype": "text/x-python",
   "name": "python",
   "nbconvert_exporter": "python",
   "pygments_lexer": "ipython3",
   "version": "3.8.8"
  }
 },
 "nbformat": 4,
 "nbformat_minor": 5
}
