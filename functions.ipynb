{
 "cells": [
  {
   "cell_type": "markdown",
   "id": "7e3a79ad",
   "metadata": {},
   "source": [
    "# Creating global functions"
   ]
  },
  {
   "cell_type": "markdown",
   "id": "54e2d9b3",
   "metadata": {},
   "source": [
    "## Installing packages"
   ]
  },
  {
   "cell_type": "code",
   "execution_count": null,
   "id": "edd272db",
   "metadata": {},
   "outputs": [],
   "source": [
    "import matplotlib.pyplot as plt\n",
    "import pandas as pd\n",
    "import seaborn as sns\n",
    "import numpy as np\n",
    "from statistics import mode\n",
    "import collections\n",
    "from datetime import date"
   ]
  },
  {
   "cell_type": "markdown",
   "id": "37ca7c0d",
   "metadata": {},
   "source": [
    "## Functions"
   ]
  },
  {
   "cell_type": "code",
   "execution_count": 1,
   "id": "95ca41d3",
   "metadata": {},
   "outputs": [],
   "source": [
    "def create_global_function():\n",
    "    global foo\n",
    "    def foo(): return 'bar'\n",
    "    "
   ]
  },
  {
   "cell_type": "code",
   "execution_count": null,
   "id": "3ea5be15",
   "metadata": {},
   "outputs": [],
   "source": [
    "def standardheader(df):\n",
    "    df.columns = [x.strip(' ').lower() for x in df.columns]"
   ]
  },
  {
   "cell_type": "code",
   "execution_count": null,
   "id": "05d0d9a5",
   "metadata": {},
   "outputs": [],
   "source": [
    "def spaceout(df):\n",
    "    for x in df.columns:\n",
    "        a = df[x].dtypes == 'object'\n",
    "        if a == True:\n",
    "            df[x] = [x.strip(' ') for x in df[x]]\n",
    "        else:\n",
    "            pass"
   ]
  },
  {
   "cell_type": "code",
   "execution_count": null,
   "id": "b4f12521",
   "metadata": {},
   "outputs": [],
   "source": [
    "def numeric(df):\n",
    "    for x in df.columns:\n",
    "        a = df[x].dtypes == 'object'\n",
    "        if a == True:\n",
    "            df[x] = pd.to_numeric(df[x], errors='coerce')\n",
    "        else:\n",
    "            pass"
   ]
  },
  {
   "cell_type": "code",
   "execution_count": null,
   "id": "80c8040d",
   "metadata": {},
   "outputs": [],
   "source": [
    "def fillnas(df, lstcols):\n",
    "    for x in lstcols:\n",
    "        a = mode(df[x])\n",
    "        df[x] = df[x].fillna(a)"
   ]
  },
  {
   "cell_type": "code",
   "execution_count": null,
   "id": "95ccd392",
   "metadata": {},
   "outputs": [],
   "source": [
    "def datescheck(dfdatecol, starty, startm, startd, endy, endm, endd):\n",
    "    \n",
    "    # Calculating the days within the dataset interval based on the head() and tail()\n",
    "    d0 = date(starty, startm, startd)\n",
    "    d1 = date(endy, endm, endd)\n",
    "    delta = (d1 - d0).days\n",
    "\n",
    "    # Calculating the amount of lines in the dataset\n",
    "    delta2 = len(dfdatecol)-1\n",
    "\n",
    "    # Doing the check\n",
    "    if (int(delta) - delta2) == 0:\n",
    "        print('Ok number of rows!')\n",
    "    else:\n",
    "        print('You have a difference of rows, please check missing information.', int(delta) - delta2, 'missing values')"
   ]
  },
  {
   "cell_type": "code",
   "execution_count": null,
   "id": "05a8705b",
   "metadata": {},
   "outputs": [],
   "source": [
    "def hists(df):\n",
    "    for column in df.columns:\n",
    "        sns.distplot(df[column])\n",
    "        plt.show()"
   ]
  },
  {
   "cell_type": "code",
   "execution_count": null,
   "id": "4f1f4def",
   "metadata": {},
   "outputs": [],
   "source": [
    "def boxplots(df):\n",
    "    for column in weather2.columns:\n",
    "        sns.boxplot(x = column, data = df)\n",
    "        plt.show()"
   ]
  },
  {
   "cell_type": "code",
   "execution_count": null,
   "id": "154ebb93",
   "metadata": {},
   "outputs": [],
   "source": [
    "def remove_outliers(df, threshold=1.5, in_columns=df.select_dtypes(np.number).columns, skip_columns=[]):\n",
    "    for column in in_columns:\n",
    "        if column not in skip_columns:\n",
    "            upper = np.percentile(df[column],75)\n",
    "            lower = np.percentile(df[column],25)\n",
    "            iqr = upper - lower\n",
    "            upper_limit = upper + (threshold * iqr)\n",
    "            lower_limit = lower - (threshold * iqr)\n",
    "            df = df[(df[column]>lower_limit) & (df[column]<upper_limit)]\n",
    "    return df"
   ]
  }
 ],
 "metadata": {
  "kernelspec": {
   "display_name": "Python 3",
   "language": "python",
   "name": "python3"
  },
  "language_info": {
   "codemirror_mode": {
    "name": "ipython",
    "version": 3
   },
   "file_extension": ".py",
   "mimetype": "text/x-python",
   "name": "python",
   "nbconvert_exporter": "python",
   "pygments_lexer": "ipython3",
   "version": "3.8.8"
  }
 },
 "nbformat": 4,
 "nbformat_minor": 5
}
